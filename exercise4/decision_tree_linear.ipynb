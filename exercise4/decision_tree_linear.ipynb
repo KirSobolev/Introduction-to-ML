{
 "cells": [
  {
   "cell_type": "code",
   "execution_count": null,
   "metadata": {},
   "outputs": [],
   "source": [
    "import numpy as np\n",
    "import pandas as pd\n",
    "import matplotlib.pyplot as plt\n",
    "import seaborn as sns\n",
    "import optuna\n",
    "\n",
    "\n",
    "from sklearn.model_selection import train_test_split\n",
    "from sklearn import metrics, svm\n",
    "from sklearn.pipeline import make_pipeline\n",
    "from sklearn.preprocessing import MinMaxScaler, StandardScaler\n",
    "from sklearn.model_selection import GridSearchCV, RandomizedSearchCV\n",
    "from scipy.stats import uniform\n",
    "from sklearn.ensemble import RandomForestRegressor\n"
   ]
  },
  {
   "cell_type": "code",
   "execution_count": null,
   "metadata": {},
   "outputs": [],
   "source": [
    "# initalize scaler\n",
    "scalerY = MinMaxScaler()\n",
    "\n",
    "# name of target variable\n",
    "target_variable = \"Price_euros\"\n",
    "\n",
    "# save min/max -values of target value\n",
    "# for bettermetrics later\n",
    "min_y = df[target_variable].min()\n",
    "max_y = df[target_variable].max()\n",
    "\n",
    "# scale y-variable\n",
    "num_vars = [target_variable]\n",
    "df[num_vars] = scalerY.fit_transform(df[num_vars])\n"
   ]
  },
  {
   "cell_type": "code",
   "execution_count": null,
   "metadata": {},
   "outputs": [],
   "source": [
    "# if you  have more than one independent variables, list them all here\n",
    "# leave out the target variable! (dependent variable)\n",
    "X = df.drop([target_variable], axis=1)\n",
    "\n",
    "# have only the target variable here (dependent variable)\n",
    "y = df[target_variable]\n",
    "\n",
    "X_train, X_test, y_train, y_test = train_test_split(X, y, test_size=0.3, random_state=42)"
   ]
  },
  {
   "cell_type": "code",
   "execution_count": null,
   "metadata": {},
   "outputs": [],
   "source": [
    "# Importing clean, ready to go dataset from previous exercise 2\n",
    "df = pd.read_csv(\"lin_reg_df_clean.csv\")\n",
    "\n",
    "# X = everything else in the DataFrame minus the target variable\n",
    "# y = only the target variable\n",
    "X = df.drop('booking_status', axis=1)\n",
    "y = df['booking_status']\n",
    "\n",
    "# split the data into train/test split\n",
    "X_train, X_test, y_train, y_test = train_test_split(X, y, test_size=0.25)"
   ]
  },
  {
   "cell_type": "code",
   "execution_count": null,
   "metadata": {},
   "outputs": [],
   "source": [
    "model = make_pipeline(StandardScaler(), RandomForestRegressor())\n",
    "model.fit(X_train, y_train)"
   ]
  },
  {
   "cell_type": "code",
   "execution_count": null,
   "metadata": {},
   "outputs": [],
   "source": [
    "#parameters you can try optimizing for RandomForestRegressor\n",
    "# criterion: \"squared_error\", \"absolute_error\", \"friedman_mse\", \"poisson\", default squared_error\n",
    "# n_estimators: default = 100, the number of decision trees created for the data\n",
    "# ccp_alpha: same as above, but rarely improves a regression model"
   ]
  }
 ],
 "metadata": {
  "language_info": {
   "name": "python"
  }
 },
 "nbformat": 4,
 "nbformat_minor": 2
}
