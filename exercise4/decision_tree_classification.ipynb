{
 "cells": [
  {
   "cell_type": "code",
   "execution_count": null,
   "metadata": {},
   "outputs": [],
   "source": [
    "import numpy as np\n",
    "import pandas as pd\n",
    "import matplotlib.pyplot as plt\n",
    "import seaborn as sns\n",
    "\n",
    "from sklearn.model_selection import train_test_split\n",
    "from sklearn import metrics, tree\n",
    "from sklearn.pipeline import make_pipeline\n",
    "from sklearn.metrics import classification_report\n",
    "from sklearn.metrics import confusion_matrix\n",
    "from sklearn.metrics import accuracy_score\n",
    "from sklearn.metrics import roc_auc_score\n",
    "from sklearn.model_selection import GridSearchCV\n",
    "from sklearn.tree import DecisionTreeClassifier\n",
    "from matplotlib import pyplot as plt\n",
    "from sklearn.ensemble import RandomForestClassifier\n",
    "from sklearn.preprocessing import StandardScaler"
   ]
  },
  {
   "cell_type": "code",
   "execution_count": null,
   "metadata": {},
   "outputs": [],
   "source": [
    "# Importing clean, ready to go dataset from previous exercise 2\n",
    "df = pd.read_csv(\"../exercise2/log_reg_df_clean.csv\")\n",
    "\n",
    "# X = everything else in the DataFrame minus the target variable\n",
    "# y = only the target variable\n",
    "X = df.drop('booking_status', axis=1)\n",
    "y = df['booking_status']\n",
    "\n",
    "# split the data into train/test split\n",
    "X_train, X_test, y_train, y_test = train_test_split(X, y, test_size=0.25)"
   ]
  },
  {
   "cell_type": "code",
   "execution_count": null,
   "metadata": {},
   "outputs": [],
   "source": [
    "# Fit the decision tree classifier with default hyper-parameters\n",
    "clf = DecisionTreeClassifier()\n",
    "model = clf.fit(X, y)"
   ]
  },
  {
   "cell_type": "code",
   "execution_count": null,
   "metadata": {},
   "outputs": [],
   "source": [
    "# pip install dtreeviz\n",
    "import dtreeviz\n",
    "viz_model = dtreeviz.model(clf,\n",
    "                           X_train=X, y_train=y,\n",
    "                           feature_names=X.columns,\n",
    "                           target_name='Decision',\n",
    "                           class_names=[\"No\", \"Yes\"])\n",
    "\n",
    "# for viewing in the Jupyter notebook\n",
    "# Note: this is not practical with large \n",
    "# decision trees!\n",
    "# adjust the scale if you need a bigger picture (for example 2.5)\n",
    "# viz_model.view(scale=1)\n",
    "\n",
    "# save decision tree into a vector image (SVG)\n",
    "# open the SVG-file in a web browser for studying\n",
    "# Mozilla Firefox might be the most light-weight browser for this!\n",
    "viz_model.view(scale=1).save(\"decisiontreetest.svg\") "
   ]
  },
  {
   "cell_type": "code",
   "execution_count": null,
   "metadata": {},
   "outputs": [],
   "source": [
    "from sklearn.tree import export_graphviz\n",
    "import subprocess\n",
    "from sklearn import tree\n",
    "\n",
    "# Export the decision tree to DOT format\n",
    "export_graphviz(clf, \n",
    "                   feature_names=X.columns,  \n",
    "                   class_names=[\"No\", \"Yes\"],\n",
    "                   filled=True, rounded=True, node_ids=True, out_file='tree.dot')\n",
    "\n",
    "\n",
    "\n",
    "# Convert DOT to SVG\n",
    "subprocess.call(['dot', '-Tsvg', 'tree.dot', '-o', 'tree.svg'])\n",
    "\n",
    "# if you only want to visualize without saving to file:\n",
    "\n",
    "# adjust figsize for a different size\n",
    "# fig = plt.figure(figsize=(30,12))\n",
    "# _ = tree.plot_tree(clf, \n",
    "#                   feature_names=X.columns,  \n",
    "#                   class_names=[\"No\", \"Yes\"],\n",
    "#                   filled=True, rounded=True, fontsize=12, node_ids=True\n",
    "#                   )"
   ]
  },
  {
   "cell_type": "code",
   "execution_count": null,
   "metadata": {},
   "outputs": [],
   "source": [
    "model = make_pipeline(StandardScaler(), RandomForestClassifier())\n",
    "model.fit(X_train, y_train)\n"
   ]
  },
  {
   "cell_type": "code",
   "execution_count": null,
   "metadata": {},
   "outputs": [],
   "source": [
    "# parameters you can try optimizing for RandomForestClassifier\n",
    "# criterion , options: \"gini\", \"entropy\", \"log_loss\", default=\"gini\"\n",
    "# n_estimators: default = 100, the number of decision trees created for the data\n",
    "# class_weight, options: \"balanced\", \"balanced_subsample\"\n",
    "# ccp_alpha: Complexity parameter, non-negative float, default=0.0. Typical values 0.0 - 0.05.\n"
   ]
  }
 ],
 "metadata": {
  "language_info": {
   "name": "python"
  }
 },
 "nbformat": 4,
 "nbformat_minor": 2
}
